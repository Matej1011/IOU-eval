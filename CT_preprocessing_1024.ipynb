{
  "cells": [
    {
      "cell_type": "markdown",
      "metadata": {
        "id": "view-in-github",
        "colab_type": "text"
      },
      "source": [
        "<a href=\"https://colab.research.google.com/github/Matej1011/IOU-eval/blob/main/CT_preprocessing_1024.ipynb\" target=\"_parent\"><img src=\"https://colab.research.google.com/assets/colab-badge.svg\" alt=\"Open In Colab\"/></a>"
      ]
    },
    {
      "cell_type": "code",
      "execution_count": null,
      "metadata": {
        "colab": {
          "base_uri": "https://localhost:8080/"
        },
        "id": "gX2QuR99EMwf",
        "outputId": "df7d6d71-045a-422c-c2b8-1546ce59799b"
      },
      "outputs": [
        {
          "output_type": "stream",
          "name": "stdout",
          "text": [
            "Collecting connected-components-3d\n",
            "  Downloading connected_components_3d-3.18.0-cp310-cp310-manylinux_2_17_x86_64.manylinux2014_x86_64.whl.metadata (31 kB)\n",
            "Collecting SimpleITK\n",
            "  Downloading SimpleITK-2.4.0-cp310-cp310-manylinux_2_17_x86_64.manylinux2014_x86_64.whl.metadata (7.9 kB)\n",
            "Requirement already satisfied: nibabel in /usr/local/lib/python3.10/dist-packages (5.0.1)\n",
            "Requirement already satisfied: scikit-image in /usr/local/lib/python3.10/dist-packages (0.23.2)\n",
            "Requirement already satisfied: tqdm in /usr/local/lib/python3.10/dist-packages (4.66.5)\n",
            "Requirement already satisfied: numpy in /usr/local/lib/python3.10/dist-packages (from connected-components-3d) (1.26.4)\n",
            "Requirement already satisfied: packaging>=17 in /usr/local/lib/python3.10/dist-packages (from nibabel) (24.1)\n",
            "Requirement already satisfied: setuptools in /usr/local/lib/python3.10/dist-packages (from nibabel) (71.0.4)\n",
            "Requirement already satisfied: scipy>=1.9 in /usr/local/lib/python3.10/dist-packages (from scikit-image) (1.13.1)\n",
            "Requirement already satisfied: networkx>=2.8 in /usr/local/lib/python3.10/dist-packages (from scikit-image) (3.3)\n",
            "Requirement already satisfied: pillow>=9.1 in /usr/local/lib/python3.10/dist-packages (from scikit-image) (9.4.0)\n",
            "Requirement already satisfied: imageio>=2.33 in /usr/local/lib/python3.10/dist-packages (from scikit-image) (2.34.2)\n",
            "Requirement already satisfied: tifffile>=2022.8.12 in /usr/local/lib/python3.10/dist-packages (from scikit-image) (2024.7.24)\n",
            "Requirement already satisfied: lazy-loader>=0.4 in /usr/local/lib/python3.10/dist-packages (from scikit-image) (0.4)\n",
            "Downloading connected_components_3d-3.18.0-cp310-cp310-manylinux_2_17_x86_64.manylinux2014_x86_64.whl (3.7 MB)\n",
            "\u001b[2K   \u001b[90m━━━━━━━━━━━━━━━━━━━━━━━━━━━━━━━━━━━━━━━━\u001b[0m \u001b[32m3.7/3.7 MB\u001b[0m \u001b[31m25.9 MB/s\u001b[0m eta \u001b[36m0:00:00\u001b[0m\n",
            "\u001b[?25hDownloading SimpleITK-2.4.0-cp310-cp310-manylinux_2_17_x86_64.manylinux2014_x86_64.whl (52.4 MB)\n",
            "\u001b[2K   \u001b[90m━━━━━━━━━━━━━━━━━━━━━━━━━━━━━━━━━━━━━━━━\u001b[0m \u001b[32m52.4/52.4 MB\u001b[0m \u001b[31m13.3 MB/s\u001b[0m eta \u001b[36m0:00:00\u001b[0m\n",
            "\u001b[?25hInstalling collected packages: SimpleITK, connected-components-3d\n",
            "Successfully installed SimpleITK-2.4.0 connected-components-3d-3.18.0\n"
          ]
        }
      ],
      "source": [
        "!pip install connected-components-3d SimpleITK nibabel scikit-image tqdm"
      ]
    },
    {
      "cell_type": "code",
      "execution_count": null,
      "metadata": {
        "colab": {
          "base_uri": "https://localhost:8080/"
        },
        "id": "Lr5WNo3KETJl",
        "outputId": "ae14beac-1cb0-4a10-838c-cf6344dbc0d6"
      },
      "outputs": [
        {
          "output_type": "stream",
          "name": "stdout",
          "text": [
            "Mounted at /content/drive\n"
          ]
        }
      ],
      "source": [
        "from google.colab import drive\n",
        "drive.mount('/content/drive')\n",
        "!rm -r sample_data/"
      ]
    },
    {
      "cell_type": "markdown",
      "metadata": {
        "id": "Wlyyj1DuEF2u"
      },
      "source": [
        "Below is code copy-pasted from https://github.com/bowang-lab/MedSAM/blob/a7b77769ff12035414d0aaf3bc87230b7c10f922/pre_CT_MR.py"
      ]
    },
    {
      "cell_type": "code",
      "execution_count": null,
      "metadata": {
        "colab": {
          "base_uri": "https://localhost:8080/"
        },
        "id": "ihJm4OgHECpK",
        "outputId": "77216b75-8786-4ee9-b5f5-f5170bfa12bb"
      },
      "outputs": [
        {
          "output_type": "stream",
          "name": "stdout",
          "text": [
            "ori # files len(names)=87\n",
            "after sanity check # files len(names)=87\n"
          ]
        },
        {
          "output_type": "stream",
          "name": "stderr",
          "text": [
            "\r  0%|          | 0/87 [00:00<?, ?it/s]"
          ]
        },
        {
          "output_type": "stream",
          "name": "stdout",
          "text": [
            "rii, gt_name:  8 1.2.826.0.1.3680043.14267.nii\n"
          ]
        },
        {
          "output_type": "stream",
          "name": "stderr",
          "text": [
            "100%|██████████| 87/87 [04:11<00:00,  2.89s/it]\n"
          ]
        }
      ],
      "source": [
        "# -*- coding: utf-8 -*-\n",
        "# %% import packages\n",
        "# pip install connected-components-3d\n",
        "import numpy as np\n",
        "\n",
        "# import nibabel as nib\n",
        "import SimpleITK as sitk\n",
        "import os\n",
        "\n",
        "join = os.path.join\n",
        "from skimage import transform\n",
        "from tqdm import tqdm\n",
        "import cc3d\n",
        "\n",
        "# convert nii image to npz files, including original image and corresponding masks\n",
        "modality = \"CT\"\n",
        "anatomy = \"Abd\"  # anatomy + dataset name\n",
        "img_name_suffix = \".nii.gz\"\n",
        "gt_name_suffix = \".nii\"\n",
        "prefix = modality + \"_\" + anatomy + \"_\"\n",
        "\n",
        "\n",
        "#THIS IS WHERE I EDITED THE PATHS:\n",
        "\n",
        "\n",
        "nii_path = \"/content/drive/MyDrive/SR/rsna-cspine-segmentations/nifti_source_files_segmentations\"  # path to the nii images\n",
        "gt_path = \"/content/drive/MyDrive/SR/rsna-cspine-segmentations/segmentations\"  # path to the ground truth\n",
        "npy_path = \"data/npy/\" + prefix[:-1]\n",
        "os.makedirs(join(npy_path, \"gts\"), exist_ok=True)\n",
        "os.makedirs(join(npy_path, \"imgs\"), exist_ok=True)\n",
        "\n",
        "#/content/drive/MyDrive/SR/rsna-cspine-segmentations/nifti_source_files_segmentations/1.2.826.0.1.3680043.10633\n",
        "#/content/drive/MyDrive/SR/rsna-cspine-segmentations/segmentations/1.2.826.0.1.3680043.10633.nii\n",
        "\n",
        "image_size = 1024\n",
        "voxel_num_thre2d = 100\n",
        "voxel_num_thre3d = 1000\n",
        "\n",
        "names = sorted(os.listdir(gt_path))\n",
        "print(f\"ori # files {len(names)=}\")\n",
        "names = [\n",
        "    name\n",
        "    for name in names\n",
        "    if os.path.exists(join(nii_path, name.split(gt_name_suffix)[0] + \"/\" + name.split(gt_name_suffix)[0] + img_name_suffix))\n",
        "]\n",
        "print(f\"after sanity check # files {len(names)=}\")\n",
        "\n",
        "\n",
        "\n",
        "# set label ids that are excluded\n",
        "remove_label_ids = [\n",
        "    12\n",
        "]  # remove deodenum since it is scattered in the image, which is hard to specify with the bounding box\n",
        "tumor_id = None  # only set this when there are multiple tumors; convert semantic masks to instance masks\n",
        "# set window level and width\n",
        "# https://radiopaedia.org/articles/windowing-ct\n",
        "WINDOW_LEVEL = 40  # only for CT images\n",
        "WINDOW_WIDTH = 400  # only for CT images\n",
        "\n",
        "random_important_integer = 0\n",
        "\n",
        "# %% save preprocessed images and masks as npz files\n",
        "for name in tqdm(names[:87]):  # use the remaining 10 cases for validation\n",
        "  #print(\"Name: \", name.split(gt_name_suffix)[0] + \"/\" + name.split(gt_name_suffix)[0] + img_name_suffix, \" index: \", random_important_integer)\n",
        "  if random_important_integer == 8:\n",
        "\n",
        "    #edited\n",
        "    image_name = name.split(gt_name_suffix)[0] + \"/\" + name.split(gt_name_suffix)[0] + img_name_suffix\n",
        "\n",
        "    gt_name = name\n",
        "    gt_sitk = sitk.ReadImage(join(gt_path, gt_name))\n",
        "    gt_data_ori = np.uint8(sitk.GetArrayFromImage(gt_sitk))\n",
        "\n",
        "    #print(\"rii, gt_name: \", random_important_integer, gt_name)\n",
        "    # remove label ids\n",
        "    for remove_label_id in remove_label_ids:\n",
        "        gt_data_ori[gt_data_ori == remove_label_id] = 0\n",
        "    # label tumor masks as instances and remove from gt_data_ori\n",
        "    if tumor_id is not None:\n",
        "        tumor_bw = np.uint8(gt_data_ori == tumor_id)\n",
        "        gt_data_ori[tumor_bw > 0] = 0\n",
        "        # label tumor masks as instances\n",
        "        tumor_inst, tumor_n = cc3d.connected_components(\n",
        "            tumor_bw, connectivity=26, return_N=True\n",
        "        )\n",
        "        # put the tumor instances back to gt_data_ori\n",
        "        gt_data_ori[tumor_inst > 0] = (\n",
        "            tumor_inst[tumor_inst > 0] + np.max(gt_data_ori) + 1\n",
        "        )\n",
        "\n",
        "    # exclude the objects with less than 1000 pixels in 3D\n",
        "    gt_data_ori = cc3d.dust(\n",
        "        gt_data_ori, threshold=voxel_num_thre3d, connectivity=26, in_place=True\n",
        "    )\n",
        "    # remove small objects with less than 100 pixels in 2D slices\n",
        "\n",
        "    for slice_i in range(gt_data_ori.shape[0]):\n",
        "        gt_i = gt_data_ori[slice_i, :, :]\n",
        "        # remove small objects with less than 100 pixels\n",
        "        # reason: fro such small objects, the main challenge is detection rather than segmentation\n",
        "        gt_data_ori[slice_i, :, :] = cc3d.dust(\n",
        "            gt_i, threshold=voxel_num_thre2d, connectivity=8, in_place=True\n",
        "        )\n",
        "    # find non-zero slices\n",
        "    z_index, _, _ = np.where(gt_data_ori > 0)\n",
        "    z_index = np.unique(z_index)\n",
        "\n",
        "    if len(z_index) > 0:\n",
        "        # crop the ground truth with non-zero slices\n",
        "        gt_roi = gt_data_ori[z_index, :, :]\n",
        "        # load image and preprocess\n",
        "        img_sitk = sitk.ReadImage(join(nii_path, image_name))\n",
        "        image_data = sitk.GetArrayFromImage(img_sitk)\n",
        "        # nii preprocess start\n",
        "        if modality == \"CT\":\n",
        "            lower_bound = WINDOW_LEVEL - WINDOW_WIDTH / 2\n",
        "            upper_bound = WINDOW_LEVEL + WINDOW_WIDTH / 2\n",
        "            image_data_pre = np.clip(image_data, lower_bound, upper_bound)\n",
        "            image_data_pre = (\n",
        "                (image_data_pre - np.min(image_data_pre))\n",
        "                / (np.max(image_data_pre) - np.min(image_data_pre))\n",
        "                * 255.0\n",
        "            )\n",
        "        else:\n",
        "            lower_bound, upper_bound = np.percentile(\n",
        "                image_data[image_data > 0], 0.5\n",
        "            ), np.percentile(image_data[image_data > 0], 99.5)\n",
        "            image_data_pre = np.clip(image_data, lower_bound, upper_bound)\n",
        "            image_data_pre = (\n",
        "                (image_data_pre - np.min(image_data_pre))\n",
        "                / (np.max(image_data_pre) - np.min(image_data_pre))\n",
        "                * 255.0\n",
        "            )\n",
        "            image_data_pre[image_data == 0] = 0\n",
        "\n",
        "        image_data_pre = np.uint8(image_data_pre)\n",
        "        img_roi = image_data_pre[z_index, :, :]\n",
        "\n",
        "        img_roi = np.transpose(img_roi, (2, 1, 0))\n",
        "        img_1024 = transform.resize(img_roi, (1024, 1024), order=3, preserve_range=True, anti_aliasing=True).astype(np.uint8)\n",
        "        img_1024 = np.transpose(img_1024, (2, 1, 0))\n",
        "\n",
        "        np.savez_compressed(join(npy_path, prefix + gt_name.split(gt_name_suffix)[0]+'.npz'), imgs=img_1024, gts=gt_roi, spacing=img_sitk.GetSpacing())\n",
        "\n",
        "        # save the image and ground truth as nii files for sanity check;\n",
        "        # they can be removed\n",
        "        #img_roi_sitk = sitk.GetImageFromArray(img_roi)\n",
        "        #gt_roi_sitk = sitk.GetImageFromArray(gt_roi)\n",
        "\n",
        "  random_important_integer += 1\n",
        "  #commented out:\n"
      ]
    },
    {
      "cell_type": "code",
      "source": [
        "import shutil\n",
        "from google.colab import files\n",
        "shutil.make_archive('preprocessed_62-87_npz_patients', 'zip', '/content/data/npy/CT_Abd')"
      ],
      "metadata": {
        "id": "Uh_8tuMMulfu",
        "colab": {
          "base_uri": "https://localhost:8080/",
          "height": 36
        },
        "outputId": "e97f7c3e-9814-4e8c-d165-203de8999186"
      },
      "execution_count": null,
      "outputs": [
        {
          "output_type": "execute_result",
          "data": {
            "text/plain": [
              "'/content/preprocessed_62-87_npz_patients.zip'"
            ],
            "application/vnd.google.colaboratory.intrinsic+json": {
              "type": "string"
            }
          },
          "metadata": {},
          "execution_count": 4
        }
      ]
    },
    {
      "cell_type": "code",
      "source": [
        "files.download('preprocessed_62-87_npz_patients.zip')"
      ],
      "metadata": {
        "id": "YVXwUq8Zy5AF",
        "outputId": "c70d503f-6ea5-4abc-ecc1-fc873cecb347",
        "colab": {
          "base_uri": "https://localhost:8080/",
          "height": 34
        }
      },
      "execution_count": null,
      "outputs": [
        {
          "output_type": "display_data",
          "data": {
            "text/plain": [
              "<IPython.core.display.Javascript object>"
            ],
            "application/javascript": [
              "\n",
              "    async function download(id, filename, size) {\n",
              "      if (!google.colab.kernel.accessAllowed) {\n",
              "        return;\n",
              "      }\n",
              "      const div = document.createElement('div');\n",
              "      const label = document.createElement('label');\n",
              "      label.textContent = `Downloading \"${filename}\": `;\n",
              "      div.appendChild(label);\n",
              "      const progress = document.createElement('progress');\n",
              "      progress.max = size;\n",
              "      div.appendChild(progress);\n",
              "      document.body.appendChild(div);\n",
              "\n",
              "      const buffers = [];\n",
              "      let downloaded = 0;\n",
              "\n",
              "      const channel = await google.colab.kernel.comms.open(id);\n",
              "      // Send a message to notify the kernel that we're ready.\n",
              "      channel.send({})\n",
              "\n",
              "      for await (const message of channel.messages) {\n",
              "        // Send a message to notify the kernel that we're ready.\n",
              "        channel.send({})\n",
              "        if (message.buffers) {\n",
              "          for (const buffer of message.buffers) {\n",
              "            buffers.push(buffer);\n",
              "            downloaded += buffer.byteLength;\n",
              "            progress.value = downloaded;\n",
              "          }\n",
              "        }\n",
              "      }\n",
              "      const blob = new Blob(buffers, {type: 'application/binary'});\n",
              "      const a = document.createElement('a');\n",
              "      a.href = window.URL.createObjectURL(blob);\n",
              "      a.download = filename;\n",
              "      div.appendChild(a);\n",
              "      a.click();\n",
              "      div.remove();\n",
              "    }\n",
              "  "
            ]
          },
          "metadata": {}
        },
        {
          "output_type": "display_data",
          "data": {
            "text/plain": [
              "<IPython.core.display.Javascript object>"
            ],
            "application/javascript": [
              "download(\"download_d019628a-9ddc-4197-b079-c784da5fd158\", \"preprocessed_62-87_npz_patients.zip\", 3575322807)"
            ]
          },
          "metadata": {}
        }
      ]
    }
  ],
  "metadata": {
    "colab": {
      "provenance": [],
      "authorship_tag": "ABX9TyM3cWlKTfqixeGcVo044ll6",
      "include_colab_link": true
    },
    "kernelspec": {
      "display_name": "Python 3",
      "name": "python3"
    },
    "language_info": {
      "name": "python"
    }
  },
  "nbformat": 4,
  "nbformat_minor": 0
}